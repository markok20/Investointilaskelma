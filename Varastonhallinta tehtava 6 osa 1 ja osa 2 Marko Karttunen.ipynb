{
 "cells": [
  {
   "cell_type": "markdown",
   "id": "fa2cc6e0-9264-4cb7-8779-1ee07d84c232",
   "metadata": {},
   "source": [
    "# Tehtävä 6: Optimaalinen ostoerä\n",
    "\n",
    "# Osa 1\n",
    "\n",
    "Lähtötiedot\n",
    "\n",
    "Yritys ostaa vuosittain 2 000 termostaattia hintaan 20 000 euroa/kappale. Tilauskustannukset ovat 5 000 euroa/tilaus ja varastointikustannukset 15 % varaston ostohintaisesta arvosta.\n",
    "\n",
    "Yritys ostaa tavaraa optimaalisen ostoerän mukaan.\n",
    "\n",
    "Minkä suuruinen on optimaalinen ostoerä? (50 %)\n",
    "Myyjä tarjoaa 3 %:n alennusta ostohintaan, jos tilausmääräksi muutetaan 2 000 kappaletta eli koko vuoden tarve ostetaan kerralla. Kannattaako tarjous hyväksyä? (50 %)"
   ]
  },
  {
   "cell_type": "code",
   "execution_count": 13,
   "id": "cbe112e4-e0b9-4fff-94da-f35cc5e9a6cd",
   "metadata": {},
   "outputs": [
    {
     "name": "stdout",
     "output_type": "stream",
     "text": [
      "Optimaalinen ostoerä (EOQ): 81.65 kpl\n",
      "EOQ-mallin kokonaiskustannus: 40244948.97 euroa\n",
      "3 % alennuksen mukaisen tilauksen kokonaiskustannus: 41715000.00 euroa\n",
      "Kannattaako tarjous? Ei\n",
      "Suositeltu varmuusvarasto: 69.44 kpl\n",
      "Tilauspiste: 299.44 kpl\n"
     ]
    }
   ],
   "source": [
    "import math\n",
    "from scipy.stats import norm\n",
    "\n",
    "\n",
    "\n",
    "def laske_eoq(demand, order_cost, holding_cost_rate, unit_price):\n",
    "    holding_cost = holding_cost_rate * unit_price\n",
    "    eoq = math.sqrt((2 * demand * order_cost) / holding_cost)\n",
    "    return eoq\n",
    "\n",
    "def laske_kokonaiskustannus(demand, order_quantity, order_cost, holding_cost_rate, unit_price, discount=0):\n",
    "    effective_unit_price = unit_price * (1 - discount)\n",
    "    holding_cost = holding_cost_rate * effective_unit_price\n",
    "    order_frequency = demand / order_quantity\n",
    "    total_ordering_cost = order_frequency * order_cost\n",
    "    total_holding_cost = (order_quantity / 2) * holding_cost\n",
    "    total_purchase_cost = demand * effective_unit_price\n",
    "    total_cost = total_ordering_cost + total_holding_cost + total_purchase_cost\n",
    "    return total_cost\n",
    "\n",
    "# Lähtötiedot\n",
    "annual_demand = 2000\n",
    "unit_price = 20000\n",
    "order_cost = 5000\n",
    "holding_cost_rate = 0.15\n",
    "\n",
    "eoq = laske_eoq(annual_demand, order_cost, holding_cost_rate, unit_price)\n",
    "\n",
    "discount_order_quantity = 2000\n",
    "discount_rate = 0.03\n",
    "eoq_cost = laske_kokonaiskustannus(annual_demand, eoq, order_cost, holding_cost_rate, unit_price)\n",
    "discount_cost = laske_kokonaiskustannus(annual_demand, discount_order_quantity, order_cost, holding_cost_rate, unit_price, discount=discount_rate)\n",
    "\n",
    "\n",
    "\n",
    "def laske_varmuusvarasto(std_dev, lead_time, service_level):\n",
    "    z_score = norm.ppf(service_level)\n",
    "    safety_stock = z_score * std_dev * math.sqrt(lead_time)\n",
    "    return safety_stock\n",
    "\n",
    "def laske_tilauspiste(avg_demand, lead_time, safety_stock):\n",
    "    reorder_point = (avg_demand * lead_time) + safety_stock\n",
    "    return reorder_point\n",
    "\n",
    "# Lähtötiedot\n",
    "\n",
    "weekly_demand = 230\n",
    "weekly_std_dev = 67\n",
    "lead_time = 1  # viikko\n",
    "service_level = 0.85\n",
    "\n",
    "safety_stock = laske_varmuusvarasto(weekly_std_dev, lead_time, service_level)\n",
    "reorder_point = laske_tilauspiste(weekly_demand, lead_time, safety_stock)\n",
    "\n",
    "# Tulostus\n",
    "print(f\"Optimaalinen ostoerä (EOQ): {eoq:.2f} kpl\")\n",
    "print(f\"EOQ-mallin kokonaiskustannus: {eoq_cost:.2f} euroa\")\n",
    "print(f\"3 % alennuksen mukaisen tilauksen kokonaiskustannus: {discount_cost:.2f} euroa\")\n",
    "print(f\"Kannattaako tarjous? {'Kyllä' if discount_cost < eoq_cost else 'Ei'}\")\n",
    "print(f\"Suositeltu varmuusvarasto: {safety_stock:.2f} kpl\")\n",
    "print(f\"Tilauspiste: {reorder_point:.2f} kpl\")"
   ]
  },
  {
   "cell_type": "markdown",
   "id": "2adfab57-a44b-4ba3-a742-be283249ad97",
   "metadata": {},
   "source": [
    "# Osa 1 Yhteenveto\n",
    "\n",
    "Selvitettiin yrityksen optimaalinen ostoerä ja arvioitiin, kannattaako myyjän tarjoama 3 % alennus, jos koko vuoden tarve tilataan kerralla.\n",
    "\n",
    "Yyrityksen optimaalinen ostoerä on 81.65 kappaletta, mikä minimoi varastointi- ja tilauskustannukset. \n",
    "\n",
    "Kun vertailtiin EOQ-mallin ja alennuksen mukaisia kokonaiskustannuksia, havaittiin, että EOQ-mallin kokonaiskustannus on 40 244 948.97 euroa, kun taas alennuksen mukaiset kokonaiskustannukset ovat 41 715 000.00 euroa. \n",
    "\n",
    "Koska alennuksen mukaiset kokonaiskustannukset ovat suuremmat kuin EOQ-mallin mukaiset kustannukset, tarjousta ei kannata hyväksyä.\n",
    "\n",
    "Lisäksi kuinka suuri varasto tulisi pitää kysynnän vaihteluiden varalta. Laskelmien mukaan suositeltu varmuusvarasto on 69.44 kappaletta, ja tilaus kannattaa tehdä, kun varastossa on 299.44 kappaletta jäljellä. Tuotteita on saatavilla myös kysynnän vaihteluissa ja estää varaston loppumisen kriittisellä hetkellä.\r\n"
   ]
  },
  {
   "cell_type": "markdown",
   "id": "0d4918b2-965b-45e4-80fd-deadb8891597",
   "metadata": {},
   "source": [
    "# Osa 2\n",
    "\n",
    "Lähtötiedot\n",
    "Yritys myy keskimäärin 230 tietyn merkkistä ja tyyppistä termostaattia viikossa. \n",
    "    \n",
    "Termostaatin viikkokysynnän keskihajonta on 67 kpl. \n",
    "\n",
    "Tilaukset perustuvat varaston jatkuvaan seurantaan. \n",
    "    \n",
    "Toimitusaika on 1 viikko. \n",
    "\n",
    "Palvelutasoksi halutaan 85 %. \n",
    "\n",
    "Yhden navigaattorin pitokustannukseksi arvioidaan 2 euroa viikossa.\n",
    "\n",
    "a) Kuinka suurta varmuusvarastoa suosittelet?\n",
    "b) Kuinka suuren varastomäärän kohdalla uusi tilaus kannattaisi tehdä.\n"
   ]
  },
  {
   "cell_type": "code",
   "execution_count": 14,
   "id": "dc7c9d09-b72d-4fa1-a025-3be8013182ea",
   "metadata": {},
   "outputs": [
    {
     "name": "stdout",
     "output_type": "stream",
     "text": [
      "Suositeltu varmuusvarasto: 69.44 kpl\n",
      "Tilauspiste: 299.44 kpl\n"
     ]
    }
   ],
   "source": [
    "import math\n",
    "from scipy.stats import norm\n",
    "\n",
    "def laske_varmuusvarasto(std_dev, lead_time, service_level):\n",
    "    z_score = norm.ppf(service_level)  # Z-arvo palvelutasolle\n",
    "    safety_stock = z_score * std_dev * math.sqrt(lead_time)\n",
    "    return safety_stock\n",
    "\n",
    "def laske_tilauspiste(avg_demand, lead_time, safety_stock):\n",
    "    reorder_point = (avg_demand * lead_time) + safety_stock\n",
    "    return reorder_point\n",
    "\n",
    "# Lähtötiedot\n",
    "weekly_demand = 230        # Keskimääräinen viikkokysyntä\n",
    "weekly_std_dev = 67        # Viikkokysynnän keskihajonta\n",
    "lead_time = 1              # Toimitusaika viikkoina\n",
    "service_level = 0.85       # Palvelutaso (85 %)\n",
    "\n",
    "safety_stock = laske_varmuusvarasto(weekly_std_dev, lead_time, service_level)\n",
    "reorder_point = laske_tilauspiste(weekly_demand, lead_time, safety_stock)\n",
    "\n",
    "# Tulostus\n",
    "print(f\"Suositeltu varmuusvarasto: {safety_stock:.2f} kpl\")\n",
    "print(f\"Tilauspiste: {reorder_point:.2f} kpl\")\n"
   ]
  },
  {
   "cell_type": "markdown",
   "id": "aa341d71-dbf5-49a1-b41c-4baeafa944dc",
   "metadata": {},
   "source": [
    "# Osa 2 Yhteenveto \n",
    "\n",
    "Kuinka suuri varmuusvarasto yrityksen tulisi pitää ja millä varastotasolla uuden tilauksen tekeminen on suositeltavaa.  \n",
    "\n",
    "Laskelmien perusteella suositeltu varmuusvarasto on 69.44 kappaletta. \n",
    "\n",
    "Tämä varmuusvarasto auttaa varautumaan kysynnän vaihteluihin ja estää varastojen loppumisen odottamattomien tilanteiden aikana.  \n",
    "\n",
    "Lisäksi määritettiin tilauspiste, eli varastotaso, jonka kohdalla uusi tilaus tulisi tehdä. \n",
    "\n",
    "Tilaus kannattaa tehdä, kun varastossa on 299.44 kappaletta jäljellä. \n",
    "\n",
    "Tämä varmistaa, että tuotteita on saatavilla myös toimitusajan aikana ja ehkäisee mahdollisia myyntikatkoksia.  \n",
    "\n",
    "Näin yritys voi optimoida varastonhallintansa, pienentää kustannuksia ja varmistaa, että tuotteita on saatavilla asiakkaille oikeaan aikaan."
   ]
  }
 ],
 "metadata": {
  "kernelspec": {
   "display_name": "Python 3 (ipykernel)",
   "language": "python",
   "name": "python3"
  },
  "language_info": {
   "codemirror_mode": {
    "name": "ipython",
    "version": 3
   },
   "file_extension": ".py",
   "mimetype": "text/x-python",
   "name": "python",
   "nbconvert_exporter": "python",
   "pygments_lexer": "ipython3",
   "version": "3.12.1"
  }
 },
 "nbformat": 4,
 "nbformat_minor": 5
}
