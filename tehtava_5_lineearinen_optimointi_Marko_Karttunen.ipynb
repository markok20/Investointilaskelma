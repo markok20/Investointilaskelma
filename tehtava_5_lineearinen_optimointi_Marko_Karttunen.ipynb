{
  "nbformat": 4,
  "nbformat_minor": 0,
  "metadata": {
    "colab": {
      "provenance": [],
      "authorship_tag": "ABX9TyNiXrL3dzKmC15FYWxoMW4H",
      "include_colab_link": true
    },
    "kernelspec": {
      "name": "python3",
      "display_name": "Python 3"
    },
    "language_info": {
      "name": "python"
    }
  },
  "cells": [
    {
      "cell_type": "markdown",
      "metadata": {
        "id": "view-in-github",
        "colab_type": "text"
      },
      "source": [
        "<a href=\"https://colab.research.google.com/github/markok20/Investointilaskelma/blob/main/tehtava_5_lineearinen_optimointi_Marko_Karttunen.ipynb\" target=\"_parent\"><img src=\"https://colab.research.google.com/assets/colab-badge.svg\" alt=\"Open In Colab\"/></a>"
      ]
    },
    {
      "cell_type": "code",
      "execution_count": 9,
      "metadata": {
        "colab": {
          "base_uri": "https://localhost:8080/"
        },
        "id": "kaIFObJ1BL0j",
        "outputId": "52f1e65b-191f-4f11-d27d-8683cdd44d81"
      },
      "outputs": [
        {
          "output_type": "stream",
          "name": "stdout",
          "text": [
            "Requirement already satisfied: pulp in /usr/local/lib/python3.11/dist-packages (3.0.2)\n",
            "Optimaalinen hilan määrä: 96.15\n",
            "Optimaalinen vitkutin määrä: 1192.31\n",
            "Optimaalinen vilunki määrä: 0.00\n",
            "Optimaalinen maksimikate: 405576.93 euroa\n"
          ]
        }
      ],
      "source": [
        "!pip install pulp\n",
        "\n",
        "import pulp\n",
        "\n",
        "problem = pulp.LpProblem(\"Tuotannon_optimointi\", pulp.LpMaximize)\n",
        "\n",
        "# Muuttujat\n",
        "hilan_maara = pulp.LpVariable('Hilan_maara', lowBound=0, cat='Continuous')\n",
        "vitkutin_maara = pulp.LpVariable('Vitkutin_maara', lowBound=0, cat='Continuous')\n",
        "vilunki_maara = pulp.LpVariable('Vilunki_maara', lowBound=0, cat='Continuous')\n",
        "\n",
        "# Kate per tuote\n",
        "hilan_kate = 250\n",
        "vitkutin_kate = 320\n",
        "vilunki_kate = 350\n",
        "\n",
        "# Työvaiheet\n",
        "leikkaus_hila = 12\n",
        "stanssaus_hila = 16\n",
        "puristus_hila = 12\n",
        "maalaus_hila = 22\n",
        "\n",
        "leikkaus_vitkutin = 20\n",
        "stanssaus_vitkutin = 7\n",
        "puristus_vitkutin = 6\n",
        "maalaus_vitkutin = 15\n",
        "\n",
        "leikkaus_vilunki = 30\n",
        "stanssaus_vilunki = 20\n",
        "puristus_vilunki = 10\n",
        "maalaus_vilunki = 25\n",
        "\n",
        "# Kapasiteetti per työvaihe\n",
        "leikkaus_kapasiteetti = 25000\n",
        "stanssaus_kapasiteetti = 30000\n",
        "puristus_kapasiteetti = 30000\n",
        "maalaus_kapasiteetti = 20000\n",
        "\n",
        "# Maksimoi kate\n",
        "problem += (hilan_kate * hilan_maara + vitkutin_kate * vitkutin_maara + vilunki_kate * vilunki_maara)\n",
        "\n",
        "# Rajoitteet\n",
        "problem += leikkaus_hila * hilan_maara + leikkaus_vitkutin * vitkutin_maara + leikkaus_vilunki * vilunki_maara <= leikkaus_kapasiteetti, \"Leikkauskapasiteetti\"\n",
        "problem += stanssaus_hila * hilan_maara + stanssaus_vitkutin * vitkutin_maara + stanssaus_vilunki * vilunki_maara <= stanssaus_kapasiteetti, \"Stanssauskapasiteetti\"\n",
        "problem += puristus_hila * hilan_maara + puristus_vitkutin * vitkutin_maara + puristus_vilunki * vilunki_maara <= puristus_kapasiteetti, \"Puristuskapasiteetti\"\n",
        "problem += maalaus_hila * hilan_maara + maalaus_vitkutin * vitkutin_maara + maalaus_vilunki * vilunki_maara <= maalaus_kapasiteetti, \"Maalauskapasiteetti\"\n",
        "\n",
        "# Mallin ratkaisu ongelmaan\n",
        "problem.solve()\n",
        "\n",
        "# Tulostetaan tehtävän mukaiset vastaukset\n",
        "print(f\"Optimaalinen hilan määrä: {hilan_maara.varValue:.2f}\")\n",
        "print(f\"Optimaalinen vitkutin määrä: {vitkutin_maara.varValue:.2f}\")\n",
        "print(f\"Optimaalinen vilunki määrä: {vilunki_maara.varValue:.2f}\")\n",
        "print(f\"Optimaalinen maksimikate: {pulp.value(problem.objective):.2f} euroa\")\n"
      ]
    },
    {
      "cell_type": "markdown",
      "source": [
        "Optimoinnin tulosten mukaan yrityksen tulisi valmistaa:\n",
        "- 96,15 hilaa\n",
        "- 1192,31 vitkuttinta\n",
        "- Vilunki-tuotetta ei valmisteta, koska sen valmistaminen ei ole taloudellisesti kannattavaa verrattuna hilan ja vitkuttimen valmistukseen.\n",
        "\n",
        "Maksimikate:\n",
        "Optimaalinen tuotanto-ohjelma (96,15 hilaa ja 1192,31 vitkuttinta) tuottaa 405 576,93 euron maksimikatteen. Tämä on suurin mahdollinen kate, jonka yritys voi saavuttaa ottaen huomioon kapasiteettirajoitteet ja tuotteen kateet.\n",
        "\n",
        "Kapasiteetin lisäys 25 000 eurolla:\n",
        "Kapasiteetin lisäämiselle ei ole tarvetta, koska nykyinen kapasiteetti riittää optimaalisen tuotannon toteuttamiseen. Näin ollen 25 000 euron käyttö kapasiteetin lisäämiseen ei ole tarpeellista, eikä yrityksen tarvitse käyttää tätä summaa kapasiteetin laajentamiseen.\n",
        "\n",
        "Optimituotanto ja maksimikate, kun vilunki-tuote lisätään:\n",
        "Vilunki-tuote, jonka kate on 350 euroa per tuote, ei ole osa optimaalista tuotantoa, koska sen valmistaminen ei tuota yhtä suurta katetta kuin hila ja vitkutin. Tämä johtuu siitä, että vilunki vie enemmän kapasiteettia, eikä se ole taloudellisesti kannattavampaa kuin muiden tuotteiden valmistaminen. Näin ollen, vaikka vilunki voisi teoriassa lisätä voittoa, se ei ole mukana optimituotanto-ohjelmassa. Optimituotanto ja maksimikate pysyvät samoina: 96,15 hilaa ja 1192,31 vitkuttinta, maksimikate 405 576,93 euroa.\n",
        "\n",
        "Yhteenveto:\n",
        "Yrityksen optimaalinen tuotanto-ohjelma koostuu hilan ja vitkuttimen valmistamisesta, ja vilunki-tuotetta ei ole kannattavaa lisätä tuotantoon. Maksimikate on 405 576,93 euroa, eikä kapasiteettia tarvitse lisätä 25 000 eurolla, koska nykyinen kapasiteetti riittää optimaaliseen tuotantoon."
      ],
      "metadata": {
        "id": "cf_riEeCCTwY"
      }
    }
  ]
}