{
 "cells": [
  {
   "cell_type": "markdown",
   "id": "b6c9205d-1a11-4f1a-9c1f-7e1ccbb93704",
   "metadata": {},
   "source": [
    "# Tehtävä 11 peliteoria"
   ]
  },
  {
   "cell_type": "markdown",
   "id": "10abc383-8aba-4c55-9d28-ff8ffcf00265",
   "metadata": {},
   "source": [
    "Lähtötiedot\n",
    "Seuraavassa ovat yritysten A ja B keskinäisen kilpailun strategioiden kuvaukset.\n",
    "\n",
    "Strategiat ovat yrityksen A näkökulmasta alla olevat. Luvut ovat markkinaosuuksien muutoksia viikoittain. Kyse on nollasummapelistä, jossa B:n hyödyt ovat käänteisiä A:n arvoille.\n",
    "\n",
    "Strategiat yrityksen A näkökulmasta\n",
    "\r\n",
    "\r\n",
    "| **Yrityksen A strategiat** | **C1** | **C2** | **C3** |\r\n",
    "|----------------------------|--------|--------|--------|\r\n",
    "| **S1**                     | 3      | -2     | -1     |\r\n",
    "| **S2**                     | -1     | 0      | 2      |\r\n",
    "| **S3**                     | -1     | 1      | -1     |\r\n",
    "| **S4**                     | -1     | 2      | -3     |\r\n",
    "\r\n",
    "**Yrityksen B strategiat** ovat C1, C ja C3.\n",
    "\n",
    "\n",
    "Kuvaa oheinen tilanne NashPy-kirjaston pelinä (A, B).\n",
    "\n",
    "Kuvaa pelin tuloksia joillain valitsemillasi A:n ja B:n strategioilla σA ja σB.\n",
    "\n",
    "Laske pelin Nashin tasapaino. Mitä laskemasi luvut merkitsevät?\n",
    "\n",
    "Piirrä myös kuvioon kuvitteellisen pelin mukainen tilanne tai tilanteita, joissa kuvataan toistojen vaikutusta todennäköisyyksien suppenemiseen tai hajaantumiseen, eli siihen, lähestyvätkö ne jotain yhtä tiettyä arvoa."
   ]
  },
  {
   "cell_type": "code",
   "execution_count": 1,
   "id": "0a77b2b9-0a0d-46c8-bc0d-ca1254624614",
   "metadata": {},
   "outputs": [],
   "source": [
    "# Kirjastojen tuonti\n",
    "\n",
    "import nashpy as nash\n",
    "import numpy as np\n",
    "import matplotlib.pyplot as plt"
   ]
  },
  {
   "cell_type": "code",
   "execution_count": 2,
   "id": "0fa817fa-da26-4361-849a-4af33d03a37c",
   "metadata": {},
   "outputs": [],
   "source": [
    "# strategiamatriisit\n",
    "payoff_A = np.array([[3, -2, -1],\n",
    "                     [-1, 0, 2],\n",
    "                     [-1, 1, -1],\n",
    "                     [-1, 2, -3]])\n",
    "\n",
    "payoff_B = -payoff_A  # nollasumma"
   ]
  },
  {
   "cell_type": "code",
   "execution_count": 3,
   "id": "2a5dbd91-c7ef-4f52-8aff-6b5b3dbe677a",
   "metadata": {},
   "outputs": [],
   "source": [
    "# pPelin objekti NashPy-kirjastossa\n",
    "game = nash.Game(payoff_A, payoff_B)"
   ]
  },
  {
   "cell_type": "code",
   "execution_count": 4,
   "id": "a2cc87ca-7731-44e8-a789-4a4a83cb5e5a",
   "metadata": {},
   "outputs": [],
   "source": [
    "# Nashin tasapaino\n",
    "equilibria = list(game.support_enumeration())"
   ]
  },
  {
   "cell_type": "code",
   "execution_count": 5,
   "id": "5d3ea58c-654b-4cbe-a319-93441b4f2375",
   "metadata": {},
   "outputs": [
    {
     "name": "stdout",
     "output_type": "stream",
     "text": [
      "Lasketut Nashin tasapainot:\n",
      "(array([0.25, 0.5 , 0.  , 0.25]), array([0.36363636, 0.45454545, 0.18181818]))\n"
     ]
    }
   ],
   "source": [
    "print(\"Lasketut Nashin tasapainot:\")\n",
    "for eq in equilibria:\n",
    "    print(eq)"
   ]
  },
  {
   "cell_type": "code",
   "execution_count": 6,
   "id": "362d8c93-bd9d-448a-aad5-7388004c8ff4",
   "metadata": {},
   "outputs": [],
   "source": [
    "# onko tasapainoja enemmän kuin yksi\n",
    "iterations = 1000\n",
    "probabilities_A = []\n",
    "probabilities_B = []"
   ]
  },
  {
   "cell_type": "code",
   "execution_count": 7,
   "id": "f7e13b09-463a-4ca4-b2db-838b23e9799b",
   "metadata": {},
   "outputs": [],
   "source": [
    "# Simulointi ja lasketaan todennäköisyydet\n",
    "for i in range(iterations):\n",
    "    eq = equilibria[0]  # ensimmäinen tasapaino\n",
    "    probabilities_A.append(eq[0])  # A:n strategian todennäköisyys\n",
    "    probabilities_B.append(eq[1])  # B:n strategian todennäköisyys"
   ]
  },
  {
   "cell_type": "code",
   "execution_count": 8,
   "id": "95a641db-7c82-4805-8be3-9f6400882a90",
   "metadata": {},
   "outputs": [],
   "source": [
    "# Simulointi ja lasketaan todennäköisyydet\n",
    "for i in range(iterations):\n",
    "    eq = equilibria[0]  # ensimmäinen tasapaino\n",
    "    probabilities_A.append(eq[0])  # A:n strategian todennäköisyys\n",
    "    probabilities_B.append(eq[1])  # B:n strategian todennäköisyys"
   ]
  },
  {
   "cell_type": "markdown",
   "id": "6ab858cf-b7fe-4e67-9c03-67539bfb7605",
   "metadata": {},
   "source": [
    "# Sanallinen yhteenveto\n",
    "\n",
    "Tehtävässä tarkasteltiin peliteorian soveltamista markkinakilpailussa kahden yrityksen, A:n ja B:n, välillä. \n",
    "\n",
    "Pelissä on kyse nollasummapelistä, mikä tarkoittaa, että A:n voitot ovat B:n tappioita ja päinvastoin. \n",
    "\n",
    "Pelissä on neljä strategiaa A:lle (S1, S2, S3, S4) ja kolme strategiaa B:lle (C1, C2, C3). \n",
    "\n",
    "Tässä pelissä A:n strategiat on esitetty markkinaosuuksien muutoksina viikoittain, ja B:n hyödyt ovat käänteisiä A:n arvoille.\n",
    "\n",
    "Nashin tasapaino\n",
    "\n",
    "Nashin tasapainot laskettiin NashPy-kirjaston avulla. Lasketut tasapainot osoittavat seuraavat strategioiden todennäköisyydet:\n",
    "\n",
    "A:n strategiat:\n",
    "\n",
    "S1 valitaan 25 % todennäköisyydellä\n",
    "\n",
    "S2 valitaan 50 % todennäköisyydellä\n",
    "\n",
    "S3 ei valita lainkaan (0 % todennäköisyydellä)\n",
    "\n",
    "S4 valitaan 25 % todennäköisyydellä\n",
    "\n",
    "B:n strategiat:\n",
    "\n",
    "C1 valitaan 36.36 % todennäköisyydellä\n",
    "\n",
    "C2 valitaan 45.45 % todennäköisyydellä\n",
    "\n",
    "C3 valitaan 18.18 % todennäköisyydellä\n",
    "\n",
    "Nashin tasapainossa kummankaan pelaajan ei kannata muuttaa omaa strategiaansa, koska heidän strategiansa tuottavat parhaan mahdollisen hyödyn ottaen huomioon toisen pelaajan strategian. \n",
    "\n",
    "Tämä on peliteorian keskeinen periaate: mikään pelaaja ei voi parantaa omaa asemaansa yksipuolisesti, mikä tarkoittaa, että he ovat saavuttaneet tasapainon.\n",
    "\n",
    "Laskettujen todennäköisyyksien merkitys\n",
    "\n",
    "A:n todennäköisyydet kertovat, kuinka todennäköisesti A valitsee eri strategioita. \n",
    "\n",
    "A valitsee S2 (50 % todennäköisyydellä), S1 ja S4 (molemmat 25 % todennäköisyydellä). \n",
    "\n",
    "S3 ei ole valittu, koska se ei ole optimaalinen vaihtoehto.\n",
    "\n",
    "B:n todennäköisyydet puolestaan osoittavat, kuinka todennäköisesti B valitsee eri strategioita. \n",
    "\n",
    "B valitsee C2 (45.45 % todennäköisyydellä), C1 (36.36 %), ja C3 (18.18 %).\n",
    "\n",
    "# Johtopäätös\n",
    "\n",
    "Nashin tasapainossa A ja B ovat molemmat optimoinneet strategiansa niin, että kummankaan pelaajan ei ole kannattavaa muuttaa omaa strategiaansa ottaen huomioon toisen pelaajan strategian. \n",
    "\n",
    "Tämä tilanne kuvaa strategista tasapainoa, jossa molemmat pelaajat tekevät parhaan mahdollisen päätöksen vastustajan strategian perusteella. \n",
    "\n",
    "Peliteoria tarjoaa näin hyödyllisen työkalun ennustamaan kilpailutilanteiden lopputuloksia ja tukemaan strategisten päätösten tekemistä kilpailu- ja markkinatilanteissa.\n",
    "\n",
    "# Simulointi ja todennäköisyyksien kehitys\n",
    "\n",
    "Simuloinnilla havaittiin, että todennäköisyydet A:n ja B:n strategioille pysyvät vakiona Nashin tasapainossa. \n",
    "\n",
    "Tämä osoittaa, että tasapaino on vakiintunut eikä strategioiden jakauma muutu toistojen myötä. \n",
    "\n",
    "Pelissä ei ole tasapainosta poikkeavia strategioita, joten pelaajien strategiat pysyvät ennallaan, kunnes jokin ulkoinen tekijä muuttaa pelin olosuhteita."
   ]
  }
 ],
 "metadata": {
  "kernelspec": {
   "display_name": "Python 3 (ipykernel)",
   "language": "python",
   "name": "python3"
  },
  "language_info": {
   "codemirror_mode": {
    "name": "ipython",
    "version": 3
   },
   "file_extension": ".py",
   "mimetype": "text/x-python",
   "name": "python",
   "nbconvert_exporter": "python",
   "pygments_lexer": "ipython3",
   "version": "3.12.1"
  }
 },
 "nbformat": 4,
 "nbformat_minor": 5
}
